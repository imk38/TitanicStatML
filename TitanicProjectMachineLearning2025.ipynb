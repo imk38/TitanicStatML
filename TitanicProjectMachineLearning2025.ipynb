{
 "cells": [
  {
   "cell_type": "code",
   "execution_count": 1,
   "id": "501c3a28",
   "metadata": {},
   "outputs": [
    {
     "data": {
      "text/html": [
       "<div>\n",
       "<style scoped>\n",
       "    .dataframe tbody tr th:only-of-type {\n",
       "        vertical-align: middle;\n",
       "    }\n",
       "\n",
       "    .dataframe tbody tr th {\n",
       "        vertical-align: top;\n",
       "    }\n",
       "\n",
       "    .dataframe thead th {\n",
       "        text-align: right;\n",
       "    }\n",
       "</style>\n",
       "<table border=\"1\" class=\"dataframe\">\n",
       "  <thead>\n",
       "    <tr style=\"text-align: right;\">\n",
       "      <th></th>\n",
       "      <th>PassengerId</th>\n",
       "      <th>Survived</th>\n",
       "      <th>Pclass</th>\n",
       "      <th>Name</th>\n",
       "      <th>Sex</th>\n",
       "      <th>Age</th>\n",
       "      <th>SibSp</th>\n",
       "      <th>Parch</th>\n",
       "      <th>Ticket</th>\n",
       "      <th>Fare</th>\n",
       "      <th>Cabin</th>\n",
       "      <th>Embarked</th>\n",
       "    </tr>\n",
       "  </thead>\n",
       "  <tbody>\n",
       "    <tr>\n",
       "      <th>0</th>\n",
       "      <td>1</td>\n",
       "      <td>0</td>\n",
       "      <td>3</td>\n",
       "      <td>Braund, Mr. Owen Harris</td>\n",
       "      <td>male</td>\n",
       "      <td>22.0</td>\n",
       "      <td>1</td>\n",
       "      <td>0</td>\n",
       "      <td>A/5 21171</td>\n",
       "      <td>7.2500</td>\n",
       "      <td>NaN</td>\n",
       "      <td>S</td>\n",
       "    </tr>\n",
       "    <tr>\n",
       "      <th>1</th>\n",
       "      <td>2</td>\n",
       "      <td>1</td>\n",
       "      <td>1</td>\n",
       "      <td>Cumings, Mrs. John Bradley (Florence Briggs Th...</td>\n",
       "      <td>female</td>\n",
       "      <td>38.0</td>\n",
       "      <td>1</td>\n",
       "      <td>0</td>\n",
       "      <td>PC 17599</td>\n",
       "      <td>71.2833</td>\n",
       "      <td>C85</td>\n",
       "      <td>C</td>\n",
       "    </tr>\n",
       "    <tr>\n",
       "      <th>2</th>\n",
       "      <td>3</td>\n",
       "      <td>1</td>\n",
       "      <td>3</td>\n",
       "      <td>Heikkinen, Miss. Laina</td>\n",
       "      <td>female</td>\n",
       "      <td>26.0</td>\n",
       "      <td>0</td>\n",
       "      <td>0</td>\n",
       "      <td>STON/O2. 3101282</td>\n",
       "      <td>7.9250</td>\n",
       "      <td>NaN</td>\n",
       "      <td>S</td>\n",
       "    </tr>\n",
       "    <tr>\n",
       "      <th>3</th>\n",
       "      <td>4</td>\n",
       "      <td>1</td>\n",
       "      <td>1</td>\n",
       "      <td>Futrelle, Mrs. Jacques Heath (Lily May Peel)</td>\n",
       "      <td>female</td>\n",
       "      <td>35.0</td>\n",
       "      <td>1</td>\n",
       "      <td>0</td>\n",
       "      <td>113803</td>\n",
       "      <td>53.1000</td>\n",
       "      <td>C123</td>\n",
       "      <td>S</td>\n",
       "    </tr>\n",
       "    <tr>\n",
       "      <th>4</th>\n",
       "      <td>5</td>\n",
       "      <td>0</td>\n",
       "      <td>3</td>\n",
       "      <td>Allen, Mr. William Henry</td>\n",
       "      <td>male</td>\n",
       "      <td>35.0</td>\n",
       "      <td>0</td>\n",
       "      <td>0</td>\n",
       "      <td>373450</td>\n",
       "      <td>8.0500</td>\n",
       "      <td>NaN</td>\n",
       "      <td>S</td>\n",
       "    </tr>\n",
       "  </tbody>\n",
       "</table>\n",
       "</div>"
      ],
      "text/plain": [
       "   PassengerId  Survived  Pclass  \\\n",
       "0            1         0       3   \n",
       "1            2         1       1   \n",
       "2            3         1       3   \n",
       "3            4         1       1   \n",
       "4            5         0       3   \n",
       "\n",
       "                                                Name     Sex   Age  SibSp  \\\n",
       "0                            Braund, Mr. Owen Harris    male  22.0      1   \n",
       "1  Cumings, Mrs. John Bradley (Florence Briggs Th...  female  38.0      1   \n",
       "2                             Heikkinen, Miss. Laina  female  26.0      0   \n",
       "3       Futrelle, Mrs. Jacques Heath (Lily May Peel)  female  35.0      1   \n",
       "4                           Allen, Mr. William Henry    male  35.0      0   \n",
       "\n",
       "   Parch            Ticket     Fare Cabin Embarked  \n",
       "0      0         A/5 21171   7.2500   NaN        S  \n",
       "1      0          PC 17599  71.2833   C85        C  \n",
       "2      0  STON/O2. 3101282   7.9250   NaN        S  \n",
       "3      0            113803  53.1000  C123        S  \n",
       "4      0            373450   8.0500   NaN        S  "
      ]
     },
     "execution_count": 1,
     "metadata": {},
     "output_type": "execute_result"
    }
   ],
   "source": [
    "import pandas as pd\n",
    "import numpy as np\n",
    "import matplotlib.pyplot as plt\n",
    "import seaborn as sns\n",
    "%matplotlib inline\n",
    "\n",
    "titan = pd.read_csv('titanic_data.csv') # Training set is already available\n",
    "titan.head()"
   ]
  },
  {
   "cell_type": "code",
   "execution_count": 2,
   "id": "4e339c0f",
   "metadata": {},
   "outputs": [
    {
     "data": {
      "text/html": [
       "<div>\n",
       "<style scoped>\n",
       "    .dataframe tbody tr th:only-of-type {\n",
       "        vertical-align: middle;\n",
       "    }\n",
       "\n",
       "    .dataframe tbody tr th {\n",
       "        vertical-align: top;\n",
       "    }\n",
       "\n",
       "    .dataframe thead th {\n",
       "        text-align: right;\n",
       "    }\n",
       "</style>\n",
       "<table border=\"1\" class=\"dataframe\">\n",
       "  <thead>\n",
       "    <tr style=\"text-align: right;\">\n",
       "      <th></th>\n",
       "      <th>PassengerId</th>\n",
       "      <th>Survived</th>\n",
       "      <th>Pclass</th>\n",
       "      <th>Age</th>\n",
       "      <th>SibSp</th>\n",
       "      <th>Parch</th>\n",
       "      <th>Fare</th>\n",
       "    </tr>\n",
       "  </thead>\n",
       "  <tbody>\n",
       "    <tr>\n",
       "      <th>count</th>\n",
       "      <td>891.000000</td>\n",
       "      <td>891.000000</td>\n",
       "      <td>891.000000</td>\n",
       "      <td>714.000000</td>\n",
       "      <td>891.000000</td>\n",
       "      <td>891.000000</td>\n",
       "      <td>891.000000</td>\n",
       "    </tr>\n",
       "    <tr>\n",
       "      <th>mean</th>\n",
       "      <td>446.000000</td>\n",
       "      <td>0.383838</td>\n",
       "      <td>2.308642</td>\n",
       "      <td>29.699118</td>\n",
       "      <td>0.523008</td>\n",
       "      <td>0.381594</td>\n",
       "      <td>32.204208</td>\n",
       "    </tr>\n",
       "    <tr>\n",
       "      <th>std</th>\n",
       "      <td>257.353842</td>\n",
       "      <td>0.486592</td>\n",
       "      <td>0.836071</td>\n",
       "      <td>14.526497</td>\n",
       "      <td>1.102743</td>\n",
       "      <td>0.806057</td>\n",
       "      <td>49.693429</td>\n",
       "    </tr>\n",
       "    <tr>\n",
       "      <th>min</th>\n",
       "      <td>1.000000</td>\n",
       "      <td>0.000000</td>\n",
       "      <td>1.000000</td>\n",
       "      <td>0.420000</td>\n",
       "      <td>0.000000</td>\n",
       "      <td>0.000000</td>\n",
       "      <td>0.000000</td>\n",
       "    </tr>\n",
       "    <tr>\n",
       "      <th>25%</th>\n",
       "      <td>223.500000</td>\n",
       "      <td>0.000000</td>\n",
       "      <td>2.000000</td>\n",
       "      <td>20.125000</td>\n",
       "      <td>0.000000</td>\n",
       "      <td>0.000000</td>\n",
       "      <td>7.910400</td>\n",
       "    </tr>\n",
       "    <tr>\n",
       "      <th>50%</th>\n",
       "      <td>446.000000</td>\n",
       "      <td>0.000000</td>\n",
       "      <td>3.000000</td>\n",
       "      <td>28.000000</td>\n",
       "      <td>0.000000</td>\n",
       "      <td>0.000000</td>\n",
       "      <td>14.454200</td>\n",
       "    </tr>\n",
       "    <tr>\n",
       "      <th>75%</th>\n",
       "      <td>668.500000</td>\n",
       "      <td>1.000000</td>\n",
       "      <td>3.000000</td>\n",
       "      <td>38.000000</td>\n",
       "      <td>1.000000</td>\n",
       "      <td>0.000000</td>\n",
       "      <td>31.000000</td>\n",
       "    </tr>\n",
       "    <tr>\n",
       "      <th>max</th>\n",
       "      <td>891.000000</td>\n",
       "      <td>1.000000</td>\n",
       "      <td>3.000000</td>\n",
       "      <td>80.000000</td>\n",
       "      <td>8.000000</td>\n",
       "      <td>6.000000</td>\n",
       "      <td>512.329200</td>\n",
       "    </tr>\n",
       "  </tbody>\n",
       "</table>\n",
       "</div>"
      ],
      "text/plain": [
       "       PassengerId    Survived      Pclass         Age       SibSp  \\\n",
       "count   891.000000  891.000000  891.000000  714.000000  891.000000   \n",
       "mean    446.000000    0.383838    2.308642   29.699118    0.523008   \n",
       "std     257.353842    0.486592    0.836071   14.526497    1.102743   \n",
       "min       1.000000    0.000000    1.000000    0.420000    0.000000   \n",
       "25%     223.500000    0.000000    2.000000   20.125000    0.000000   \n",
       "50%     446.000000    0.000000    3.000000   28.000000    0.000000   \n",
       "75%     668.500000    1.000000    3.000000   38.000000    1.000000   \n",
       "max     891.000000    1.000000    3.000000   80.000000    8.000000   \n",
       "\n",
       "            Parch        Fare  \n",
       "count  891.000000  891.000000  \n",
       "mean     0.381594   32.204208  \n",
       "std      0.806057   49.693429  \n",
       "min      0.000000    0.000000  \n",
       "25%      0.000000    7.910400  \n",
       "50%      0.000000   14.454200  \n",
       "75%      0.000000   31.000000  \n",
       "max      6.000000  512.329200  "
      ]
     },
     "execution_count": 2,
     "metadata": {},
     "output_type": "execute_result"
    }
   ],
   "source": [
    "#displays basic statistics on the dataset\n",
    "x = titan.describe()\n",
    "x "
   ]
  },
  {
   "cell_type": "code",
   "execution_count": 3,
   "id": "151b47e6",
   "metadata": {},
   "outputs": [
    {
     "name": "stdout",
     "output_type": "stream",
     "text": [
      "Count of unique values:\n",
      "PassengerId    891\n",
      "Survived         2\n",
      "Pclass           3\n",
      "Name           891\n",
      "Sex              2\n",
      "Age             88\n",
      "SibSp            7\n",
      "Parch            7\n",
      "Ticket         681\n",
      "Fare           248\n",
      "Cabin          147\n",
      "Embarked         3\n",
      "dtype: int64\n"
     ]
    }
   ],
   "source": [
    "#Shows the amount of unique values for each category\n",
    "print(\"Count of unique values:\")\n",
    "print(titan.nunique())\n",
    "\n"
   ]
  },
  {
   "cell_type": "code",
   "execution_count": 4,
   "id": "8f539cf9",
   "metadata": {},
   "outputs": [
    {
     "name": "stdout",
     "output_type": "stream",
     "text": [
      "\n",
      "Correlation matrix:\n",
      "             PassengerId  Survived    Pclass       Age     SibSp     Parch  \\\n",
      "PassengerId     1.000000 -0.005007 -0.035144  0.036847 -0.057527 -0.001652   \n",
      "Survived       -0.005007  1.000000 -0.338481 -0.077221 -0.035322  0.081629   \n",
      "Pclass         -0.035144 -0.338481  1.000000 -0.369226  0.083081  0.018443   \n",
      "Age             0.036847 -0.077221 -0.369226  1.000000 -0.308247 -0.189119   \n",
      "SibSp          -0.057527 -0.035322  0.083081 -0.308247  1.000000  0.414838   \n",
      "Parch          -0.001652  0.081629  0.018443 -0.189119  0.414838  1.000000   \n",
      "Fare            0.012658  0.257307 -0.549500  0.096067  0.159651  0.216225   \n",
      "\n",
      "                 Fare  \n",
      "PassengerId  0.012658  \n",
      "Survived     0.257307  \n",
      "Pclass      -0.549500  \n",
      "Age          0.096067  \n",
      "SibSp        0.159651  \n",
      "Parch        0.216225  \n",
      "Fare         1.000000  \n"
     ]
    }
   ],
   "source": [
    "# This is the pearson Correlation between all columns\n",
    "print(\"\\nCorrelation matrix:\")\n",
    "print(titan.corr())"
   ]
  },
  {
   "cell_type": "code",
   "execution_count": 5,
   "id": "9a7ab8b0",
   "metadata": {},
   "outputs": [
    {
     "name": "stdout",
     "output_type": "stream",
     "text": [
      "Heat Maps allow you to see the correlation of two variables with one another. \n",
      "The closer the number is to 1 means that the two variables are strongly correlated, but a number closer to 0 means less of a correlation \n"
     ]
    },
    {
     "data": {
      "image/png": "[encoded data removed]",
      "text/plain": [
       "<Figure size 432x288 with 2 Axes>"
      ]
     },
     "metadata": {
      "needs_background": "light"
     },
     "output_type": "display_data"
    }
   ],
   "source": [
    "#Heatmap beggining \n",
    "#Heatmap for the whole csv\n",
    "#Heatmap displays teh pearson correlation between each variable\n",
    "print(\"Heat Maps allow you to see the correlation of two variables with one another. \")\n",
    "print(\"The closer the number is to 1 means that the two variables are strongly correlated, but a number closer to 0 means less of a correlation \")\n",
    "linewidths = 2\n",
    "linecolor = \"black\"\n",
    "annot = True\n",
    "\n",
    "sns.heatmap(titan.corr(), \n",
    "           annot = annot, \n",
    "           center = 0,\n",
    "           linewidths=linewidths,\n",
    "            linecolor=linecolor)\n",
    "\n",
    "plt.show()\n"
   ]
  },
  {
   "cell_type": "code",
   "execution_count": null,
   "id": "df7ba3ad",
   "metadata": {},
   "outputs": [],
   "source": []
  },
  {
   "cell_type": "code",
   "execution_count": 6,
   "id": "24444d6c",
   "metadata": {},
   "outputs": [
    {
     "data": {
      "text/plain": [
       "array([[<AxesSubplot:title={'center':'PassengerId'}>,\n",
       "        <AxesSubplot:title={'center':'Survived'}>,\n",
       "        <AxesSubplot:title={'center':'Pclass'}>],\n",
       "       [<AxesSubplot:title={'center':'Age'}>,\n",
       "        <AxesSubplot:title={'center':'SibSp'}>,\n",
       "        <AxesSubplot:title={'center':'Parch'}>],\n",
       "       [<AxesSubplot:title={'center':'Fare'}>, <AxesSubplot:>,\n",
       "        <AxesSubplot:>]], dtype=object)"
      ]
     },
     "execution_count": 6,
     "metadata": {},
     "output_type": "execute_result"
    },
    {
     "data": {
      "image/png": "[encoded data removed]",
      "text/plain": [
       "<Figure size 432x288 with 9 Axes>"
      ]
     },
     "metadata": {
      "needs_background": "light"
     },
     "output_type": "display_data"
    }
   ],
   "source": [
    "#Displays the frequencies for each dataset\n",
    "titan.hist()"
   ]
  },
  {
   "cell_type": "code",
   "execution_count": 7,
   "id": "2320a880",
   "metadata": {},
   "outputs": [
    {
     "data": {
      "text/plain": [
       "Text(0.5, 1.0, 'Bar plot of the count of numeric features')"
      ]
     },
     "execution_count": 7,
     "metadata": {},
     "output_type": "execute_result"
    },
    {
     "data": {
      "image/png": "[encoded data removed]",
      "text/plain": [
       "<Figure size 432x288 with 1 Axes>"
      ]
     },
     "metadata": {
      "needs_background": "light"
     },
     "output_type": "display_data"
    }
   ],
   "source": [
    "#displays the amount of values present for each category\n",
    "xT=x.T\n",
    "xT.plot.bar(y = 'count')\n",
    "plt.title(\"Bar plot of the count of numeric features\", fontsize=17, color = 'red')"
   ]
  },
  {
   "cell_type": "code",
   "execution_count": null,
   "id": "6aa72a43",
   "metadata": {},
   "outputs": [],
   "source": []
  },
  {
   "cell_type": "code",
   "execution_count": null,
   "id": "d912a2cb",
   "metadata": {},
   "outputs": [],
   "source": []
  },
  {
   "cell_type": "code",
   "execution_count": null,
   "id": "7caaf8e4",
   "metadata": {},
   "outputs": [],
   "source": []
  },
  {
   "cell_type": "code",
   "execution_count": null,
   "id": "a4796bf9",
   "metadata": {},
   "outputs": [],
   "source": []
  },
  {
   "cell_type": "code",
   "execution_count": 8,
   "id": "c5d27de5",
   "metadata": {},
   "outputs": [
    {
     "name": "stdout",
     "output_type": "stream",
     "text": [
      "t-test for young survivors(under 50) vs older survivors(greater than 50):\n",
      "t stat: -12.573392344359636\n",
      "p-value: 3.3891548884751683e-29\n",
      "t-test for dead passengers(under 50) vs dead passengres older than 50\n",
      "t stat: -19.71100252002944\n",
      "p-value: 8.688898796743436e-62\n",
      "conclusion younger people were more likely to die as the t stat was much lower in not survived group\n"
     ]
    }
   ],
   "source": [
    "\n",
    "from scipy import stats\n",
    "\n",
    "\n",
    "#Set age threshold to 50 as a rule of thumb for young vs old passengers \n",
    "age_threshold = 50\n",
    "\n",
    "#There are four categories present, those older than 50 and survived, younger than 50 and survived\n",
    "#older than 50 died, younger than 50 and died\n",
    "sample_1_survivedA = titan[(titan['Age'] < age_threshold) & (titan['Survived'] == 1)]\n",
    "sample_1_not_survivedA = titan[(titan['Age'] < age_threshold) & (titan['Survived'] == 0)]\n",
    "sample_2_survivedA = titan[(titan['Age'] >= age_threshold) & (titan['Survived'] == 1)]\n",
    "sample_2_not_survivedA = titan[(titan['Age'] >= age_threshold) & (titan['Survived'] == 0)]\n",
    "\n",
    "#obtain the t statistic as well as the P value for those that survived and drop null values\n",
    "t_statisticA, p_valueA = stats.ttest_ind(sample_1_survivedA['Age'].dropna(), sample_2_survivedA['Age'].dropna(), equal_var=True, permutations = None, random_state = None)\n",
    "print(\"t-test for young survivors(under 50) vs older survivors(greater than 50):\")\n",
    "print(f\"t stat: {t_statisticA}\")\n",
    "print(f\"p-value: {p_valueA}\")\n",
    "\n",
    "#obtain the t statistic as well as p value for those that died and drop null values\n",
    "t_statisticB, p_valueB = stats.ttest_ind(sample_1_not_survivedA['Age'].dropna(), sample_2_not_survivedA['Age'].dropna(), equal_var=True,  permutations = None, random_state = None)\n",
    "print(\"t-test for dead passengers(under 50) vs dead passengres older than 50\")\n",
    "print(f\"t stat: {t_statisticB}\")\n",
    "print(f\"p-value: {p_valueB}\")\n",
    "\n",
    "\n",
    "print(\"conclusion younger people were more likely to die as the t stat was much lower in not survived group\")\n",
    "\n"
   ]
  },
  {
   "cell_type": "code",
   "execution_count": 9,
   "id": "fa8b46ed",
   "metadata": {},
   "outputs": [
    {
     "name": "stdout",
     "output_type": "stream",
     "text": [
      "t-test for survivors that paid under 30 dollars in fares vs over 30 dollars :\n",
      "t stat: -13.662535405884613\n",
      "p-value: 3.543314720673612e-34\n",
      "t-test for dead passengers that paid under 30 dollars in fares vs over 30 dollars:\n",
      "t stat: -22.18520321478726\n",
      "p-value: 2.940293941361196e-78\n",
      "conclusion, poorer people were more likely to die as the t stat was much lower in the not survived group \n"
     ]
    }
   ],
   "source": [
    "#Set fare threshold to 30 as a rule of thumb for expensive vs inexpensive tickets\n",
    "fare_threshold = 30\n",
    "\n",
    "#There are four categories present, those who paid less than 30 and survived, those who paid less than 30 and died\n",
    "#Those who paid more than 30 and survived, those who paid more than 30 and died\n",
    "sample_1_survivedB = titan[(titan['Fare'] < fare_threshold) & (titan['Survived'] == 1)]\n",
    "sample_1_not_survivedB = titan[(titan['Fare'] < fare_threshold) & (titan['Survived'] == 0)]\n",
    "sample_2_survivedB = titan[(titan['Fare'] >= fare_threshold) & (titan['Survived'] == 1)]\n",
    "sample_2_not_survivedB = titan[(titan['Fare'] >= fare_threshold) & (titan['Survived'] == 0)]\n",
    "\n",
    "#Once again obtain the t statistic and P value for survivors\n",
    "t_statisticC, p_valueC = stats.ttest_ind(sample_1_survivedB['Fare'].dropna(), sample_2_survivedB['Fare'].dropna(), equal_var=True, permutations = None, random_state = None)\n",
    "print(\"t-test for survivors that paid under 30 dollars in fares vs over 30 dollars :\")\n",
    "print(f\"t stat: {t_statisticC}\")\n",
    "print(f\"p-value: {p_valueC}\")\n",
    "\n",
    "#obtain the t statistic and p value for non survivors\n",
    "t_statisticD, p_valueD = stats.ttest_ind(sample_1_not_survivedB['Fare'].dropna(), sample_2_not_survivedB['Fare'].dropna(), equal_var=True,  permutations = None, random_state = None)\n",
    "print(\"t-test for dead passengers that paid under 30 dollars in fares vs over 30 dollars:\")\n",
    "print(f\"t stat: {t_statisticD}\")\n",
    "print(f\"p-value: {p_valueD}\")\n",
    "\n",
    "print(\"conclusion, poorer people were more likely to die as the t stat was much lower in the not survived group \")"
   ]
  },
  {
   "cell_type": "code",
   "execution_count": null,
   "id": "dd6e6a72",
   "metadata": {},
   "outputs": [],
   "source": [
    "\n"
   ]
  },
  {
   "cell_type": "code",
   "execution_count": 10,
   "id": "7665e6c7",
   "metadata": {},
   "outputs": [
    {
     "name": "stdout",
     "output_type": "stream",
     "text": [
      "Survival proportion by Pclass:\n",
      "Pclass\n",
      "1    0.629630\n",
      "2    0.472826\n",
      "3    0.242363\n",
      "Name: Survived, dtype: float64\n",
      "Survival proportion by Sex:\n",
      "Sex\n",
      "female    0.742038\n",
      "male      0.188908\n",
      "Name: Survived, dtype: float64\n",
      "---------------------\n",
      "Conclusion: individuals in class 1 were more likely to survive than classes 2 and class 2 members were more likely than class 3\n",
      "Conclusion: Females were way more likely to survive than males\n"
     ]
    }
   ],
   "source": [
    "\n",
    "\n",
    "\n",
    "\n",
    "# Variables PClass and Sex are established to do analysis on as they are non categorical variables and haven't been analyzed yet\n",
    "nonnumerical_cate = ['Pclass', 'Sex']\n",
    "\n",
    "#Given each category for P class and Sex find the proportion of survivors\n",
    "for category in nonnumerical_cate:\n",
    "    # Calculate the survival proportion by the current category\n",
    "    nonnumerical_cate = titan.groupby(category)['Survived'].mean()\n",
    "\n",
    "    print(f\"Survival proportion by {category}:\")\n",
    "    print(nonnumerical_cate)\n",
    "    \n",
    "print(\"---------------------\")\n",
    "print(\"Conclusion: individuals in class 1 were more likely to survive than classes 2 and class 2 members were more likely than class 3\")\n",
    "print(\"Conclusion: Females were way more likely to survive than males\")"
   ]
  },
  {
   "cell_type": "code",
   "execution_count": 11,
   "id": "6f1e23af",
   "metadata": {},
   "outputs": [
    {
     "name": "stdout",
     "output_type": "stream",
     "text": [
      "Survived    0    1\n",
      "Pclass            \n",
      "1          80  136\n",
      "2          97   87\n",
      "3         372  119\n",
      "Chi-squared test for Pclass and Survived:\n",
      "Chi-square statistic: 102.88898875696056\n",
      "p-value: 4.549251711298793e-23\n",
      "-------------\n",
      "The chi square value shows that the values that we are dealing with are very significant\n"
     ]
    }
   ],
   "source": [
    "from scipy.stats import chi2_contingency\n",
    "\n",
    "#We display a contingency table to show the survival portion of each Pclass\n",
    "contingency_table = pd.crosstab(titan['Pclass'], titan['Survived'])\n",
    "\n",
    "\n",
    "chi2, p_value, dof, expected = chi2_contingency(contingency_table)\n",
    "\n",
    "print(contingency_table)\n",
    "print(\"Chi-squared test for Pclass and Survived:\")\n",
    "print(f\"Chi-square statistic: {chi2}\")\n",
    "print(f\"p-value: {p_value}\")\n",
    "\n",
    "print(\"-------------\")\n",
    "print(\"The chi square value shows that the values that we are dealing with are very significant\")"
   ]
  },
  {
   "cell_type": "code",
   "execution_count": null,
   "id": "76ee8542",
   "metadata": {},
   "outputs": [],
   "source": [
    "\n",
    "\n",
    "\n",
    "\n"
   ]
  },
  {
   "cell_type": "code",
   "execution_count": 12,
   "id": "0592a825",
   "metadata": {},
   "outputs": [
    {
     "name": "stdout",
     "output_type": "stream",
     "text": [
      "Predictions: [0 0 0 0 0 0 1 0 1 0 0 0 0 0 1 1 0 1 0 1 0 0 1 0 1 0 1 0 1 0 1 0 0 1 0 0 0\n",
      " 1 0 0 0 0 1 1 0 0 1 1 1 1 0 0 0 1 0 0 0 1 0 1 1 0 0 0 0 1 0 1 0 1 0 0 1 1\n",
      " 0 0 0 1 0 0 1 0 0 1 0 0 0 1 1 1 0 0 1 0 1 0 1 1 0 0 1 0 1 0 0 0 0 1 0 0 1\n",
      " 1 0 0 0 0 1 0 1 0 1 0 1 1 0 0 0 0 0 1 0 1 1 0 0 0 1 0 1 0 0 0 0]\n",
      "True values: [0, 0, 0, 0, 0, 0, 0, 0, 1, 0, 0, 1, 0, 1, 1, 1, 0, 1, 0, 1, 0, 1, 1, 1, 1, 1, 1, 1, 1, 0, 1, 0, 0, 1, 1, 0, 1, 0, 0, 0, 0, 0, 1, 1, 0, 0, 1, 1, 1, 1, 0, 0, 1, 1, 0, 1, 1, 1, 0, 1, 1, 0, 1, 0, 1, 1, 1, 1, 0, 1, 0, 0, 1, 1, 0, 0, 0, 1, 0, 0, 1, 0, 1, 0, 1, 0, 0, 1, 1, 0, 0, 0, 0, 0, 1, 0, 1, 1, 1, 0, 0, 0, 1, 0, 0, 0, 0, 1, 0, 0, 1, 1, 0, 0, 0, 0, 1, 0, 0, 0, 0, 0, 1, 1, 0, 1, 0, 0, 0, 0, 0, 1, 0, 0, 0, 0, 0, 0, 0, 0, 0, 1, 0]\n",
      "Accuracy: 0.7832167832167832\n",
      "-------------\n",
      "interpretation: Logistic Regression was 78% correct \n"
     ]
    }
   ],
   "source": [
    "\n",
    "\n",
    "from sklearn.model_selection import train_test_split\n",
    "from sklearn.preprocessing import OneHotEncoder\n",
    "from sklearn.linear_model import LogisticRegression\n",
    "from sklearn import metrics\n",
    "from sklearn.metrics import accuracy_score\n",
    "from sklearn.impute import SimpleImputer\n",
    "from sklearn.metrics import classification_report,confusion_matrix\n",
    "from sklearn.metrics import confusion_matrix\n",
    "from sklearn.metrics import f1_score\n",
    "from sklearn.model_selection import cross_val_score\n",
    "\n",
    "# Create a DataFrame with the selected variables\n",
    "A = titan[['Pclass', 'Sex', 'Age', 'SibSp', 'Parch', 'Fare']]\n",
    "B = titan['Survived']  # target variable\n",
    "\n",
    " #Replace infinity values with NaN\n",
    "A = A.replace([np.inf, -np.inf], np.nan)\n",
    "\n",
    "\n",
    "A = A.dropna()\n",
    "B = B.loc[A.index]\n",
    "\n",
    "# One-hot encoding for categorical variable 'Sex'\n",
    "A_encoded = pd.get_dummies(A, columns=['Sex'])\n",
    "\n",
    "# Split the data into training and testing sets\n",
    "A_train, A_test, B_train, B_test = train_test_split(A_encoded, B, test_size=0.2, random_state= 10000)\n",
    "\n",
    "# Create and fit the logistic regression model\n",
    "model = LogisticRegression(max_iter = 1000)\n",
    "model.fit(A_train, B_train)\n",
    "\n",
    "\n",
    "# Make predictions on the test set\n",
    "predictions = model.predict(A_test)\n",
    "\n",
    "\n",
    "# Calculate and print the accuracy\n",
    "accuracy = accuracy_score(B_test, predictions)\n",
    "\n",
    "\n",
    "#function to calculate and display Predictions, true values, and accuracy\n",
    "def performance(pre, acc):\n",
    "    # Print predictions and true values\n",
    "    print(\"Predictions:\", pre)\n",
    "    print(\"True values:\", B_test.tolist())\n",
    "    \n",
    "    # Print accuracy\n",
    "    print(f\"Accuracy: {acc}\")\n",
    "    \n",
    "#function to calculate and display f1 scores\n",
    "def calcf1(predict):\n",
    "    #print f1 score \n",
    "    print(\"------------------------\")\n",
    "    print(\"The F1 score for the given model is\")\n",
    "    print(f1_score(predict, B_test))\n",
    "    \n",
    "#function to display the classification report and confusion matrix\n",
    "def confclass(predicts):\n",
    "    print(\"------------------------\")\n",
    "    print(\"Confusion matrix\")\n",
    "    print(confusion_matrix(B_test, predicts))\n",
    "    \n",
    "    #classification report which includes f1, precision, recall, etc\n",
    "    print(classification_report(B_test, predicts))\n",
    "    \n",
    "performance(predictions, accuracy)\n",
    "print(\"-------------\")\n",
    "print(\"interpretation: Logistic Regression was 78% correct \")\n",
    "\n",
    "\n"
   ]
  },
  {
   "cell_type": "code",
   "execution_count": 13,
   "id": "31af8079",
   "metadata": {},
   "outputs": [
    {
     "name": "stdout",
     "output_type": "stream",
     "text": [
      "------------------------\n",
      "The F1 score for the given model is\n",
      "0.7256637168141593\n"
     ]
    }
   ],
   "source": [
    "calcf1(predictions)\n",
    "\n"
   ]
  },
  {
   "cell_type": "code",
   "execution_count": 14,
   "id": "10523798",
   "metadata": {},
   "outputs": [
    {
     "name": "stdout",
     "output_type": "stream",
     "text": [
      "The confusion matrix and classification report for logistic regression is as follows\n",
      "------------------------\n",
      "Confusion matrix\n",
      "[[71 12]\n",
      " [19 41]]\n",
      "              precision    recall  f1-score   support\n",
      "\n",
      "           0       0.79      0.86      0.82        83\n",
      "           1       0.77      0.68      0.73        60\n",
      "\n",
      "    accuracy                           0.78       143\n",
      "   macro avg       0.78      0.77      0.77       143\n",
      "weighted avg       0.78      0.78      0.78       143\n",
      "\n"
     ]
    }
   ],
   "source": [
    "print(\"The confusion matrix and classification report for logistic regression is as follows\")\n",
    "confclass(predictions)"
   ]
  },
  {
   "cell_type": "code",
   "execution_count": 15,
   "id": "189ed12d",
   "metadata": {},
   "outputs": [
    {
     "name": "stdout",
     "output_type": "stream",
     "text": [
      "--------------------------------\n",
      "This is the area under the curve\n",
      "0.8594377510040161\n"
     ]
    },
    {
     "data": {
      "image/png": "[encoded data removed]",
      "text/plain": [
       "<Figure size 432x288 with 1 Axes>"
      ]
     },
     "metadata": {
      "needs_background": "light"
     },
     "output_type": "display_data"
    }
   ],
   "source": [
    "#find the area under the curve the judge our logistic regression \n",
    "ypredictionprob = model.predict_proba(A_test)[::,1]\n",
    "\n",
    "auc = metrics.roc_auc_score(B_test, ypredictionprob)\n",
    "\n",
    "#print AUC score\n",
    "print(\"--------------------------------\")\n",
    "print(\"This is the area under the curve\")\n",
    "print(auc)\n",
    "\n",
    "#plotting logistic regression curve\n",
    "sns.regplot(x=A_test.index, y=ypredictionprob, logistic=True, scatter=False, color='green', label='Logistic Regression Curve Titanic')\n",
    "\n",
    "# Add labels and legend\n",
    "plt.xlabel('Index')\n",
    "plt.ylabel('Probability')\n",
    "plt.legend()\n",
    "plt.show()"
   ]
  },
  {
   "cell_type": "code",
   "execution_count": 16,
   "id": "8ad1b589",
   "metadata": {},
   "outputs": [
    {
     "data": {
      "image/png": "[encoded data removed]",
      "text/plain": [
       "<Figure size 432x288 with 1 Axes>"
      ]
     },
     "metadata": {
      "needs_background": "light"
     },
     "output_type": "display_data"
    }
   ],
   "source": [
    "from sklearn.metrics import roc_curve, auc\n",
    "\n",
    "# Make predictions on the test set probabilities\n",
    "probabilities = model.predict_proba(A_test)[:, 1]\n",
    "\n",
    "# calculate fpr, tpr and trhesholds\n",
    "fpr, tpr, thresholds = roc_curve(B_test, probabilities)\n",
    "\n",
    "# Calculate area under curve\n",
    "roc_auc = auc(fpr, tpr)\n",
    "\n",
    "# plot ROC curve\n",
    "plt.plot(fpr, tpr, label='ROC Curve (AUC = {:.2f})'.format(roc_auc))\n",
    "plt.plot([0, 1], [0, 1], 'k--')\n",
    "plt.xlabel('False Positive Rate')\n",
    "plt.ylabel('True Positive Rate')\n",
    "plt.title('ROC for logistic regression ')\n",
    "plt.legend(loc='lower right')\n",
    "plt.show()\n"
   ]
  },
  {
   "cell_type": "code",
   "execution_count": 17,
   "id": "285fcd00",
   "metadata": {},
   "outputs": [
    {
     "name": "stdout",
     "output_type": "stream",
     "text": [
      "Cross-validation scores: [0.76223776 0.81818182 0.77622378 0.76223776 0.81690141]\n",
      "Average score: 0.7871565054663646\n"
     ]
    }
   ],
   "source": [
    "#cross validation for logistic regeression \n",
    "cv_scores = cross_val_score(model, A_encoded, B, cv=5)\n",
    "\n",
    "#each of the 5 scores are shown\n",
    "print(\"Cross-validation scores:\", cv_scores)\n",
    "\n",
    "#average performance across all 5 folds\n",
    "print(\"Average score:\", cv_scores.mean())"
   ]
  },
  {
   "cell_type": "code",
   "execution_count": null,
   "id": "c05e92b5",
   "metadata": {},
   "outputs": [],
   "source": []
  },
  {
   "cell_type": "markdown",
   "id": "78570952",
   "metadata": {},
   "source": []
  },
  {
   "cell_type": "code",
   "execution_count": 18,
   "id": "a227f04d",
   "metadata": {},
   "outputs": [
    {
     "name": "stdout",
     "output_type": "stream",
     "text": [
      "Predictions: [1 0 0 0 0 0 0 0 1 0 0 0 0 0 0 0 0 1 0 1 0 0 0 0 1 0 1 0 1 0 1 0 0 1 0 0 0\n",
      " 1 0 0 0 0 1 0 1 0 0 0 0 0 0 0 0 0 0 0 0 1 0 0 0 0 1 0 0 1 0 0 1 0 1 0 0 1\n",
      " 0 0 0 0 0 1 1 0 1 0 0 0 0 1 1 1 0 0 1 1 0 0 0 0 1 0 0 0 1 0 0 0 0 0 0 0 0\n",
      " 0 0 0 0 0 0 0 0 0 1 0 1 1 0 1 0 0 0 0 0 0 0 0 0 0 1 0 1 0 0 0 0]\n",
      "True values: [0, 0, 0, 0, 0, 0, 0, 0, 1, 0, 0, 1, 0, 1, 1, 1, 0, 1, 0, 1, 0, 1, 1, 1, 1, 1, 1, 1, 1, 0, 1, 0, 0, 1, 1, 0, 1, 0, 0, 0, 0, 0, 1, 1, 0, 0, 1, 1, 1, 1, 0, 0, 1, 1, 0, 1, 1, 1, 0, 1, 1, 0, 1, 0, 1, 1, 1, 1, 0, 1, 0, 0, 1, 1, 0, 0, 0, 1, 0, 0, 1, 0, 1, 0, 1, 0, 0, 1, 1, 0, 0, 0, 0, 0, 1, 0, 1, 1, 1, 0, 0, 0, 1, 0, 0, 0, 0, 1, 0, 0, 1, 1, 0, 0, 0, 0, 1, 0, 0, 0, 0, 0, 1, 1, 0, 1, 0, 0, 0, 0, 0, 1, 0, 0, 0, 0, 0, 0, 0, 0, 0, 1, 0]\n",
      "Accuracy: 0.6503496503496503\n"
     ]
    }
   ],
   "source": [
    "\n",
    "\n",
    "from sklearn.svm import SVC\n",
    "\n",
    "\n",
    "# Create and fit the Support Vector Machine (SVC) model\n",
    "model2 = SVC()\n",
    "model2.fit(A_train, B_train)\n",
    "\n",
    "# Make predictions given our model\n",
    "predictions2 = model2.predict(A_test)\n",
    "\n",
    "\n",
    "# Calculate and print the accuracy\n",
    "accuracy2 = accuracy_score(B_test, predictions2)\n",
    "\n",
    "\n",
    "performance(predictions2, accuracy2)\n",
    "\n"
   ]
  },
  {
   "cell_type": "code",
   "execution_count": 19,
   "id": "c5747eef",
   "metadata": {},
   "outputs": [
    {
     "name": "stdout",
     "output_type": "stream",
     "text": [
      "------------------------\n",
      "The F1 score for the given model is\n",
      "0.46808510638297873\n"
     ]
    }
   ],
   "source": [
    "\n",
    "calcf1(predictions2)\n",
    "\n"
   ]
  },
  {
   "cell_type": "code",
   "execution_count": 20,
   "id": "8a6b6f25",
   "metadata": {},
   "outputs": [
    {
     "name": "stdout",
     "output_type": "stream",
     "text": [
      "The confusion matrix and Classification report for SVM is as follows\n",
      "------------------------\n",
      "Confusion matrix\n",
      "[[71 12]\n",
      " [38 22]]\n",
      "              precision    recall  f1-score   support\n",
      "\n",
      "           0       0.65      0.86      0.74        83\n",
      "           1       0.65      0.37      0.47        60\n",
      "\n",
      "    accuracy                           0.65       143\n",
      "   macro avg       0.65      0.61      0.60       143\n",
      "weighted avg       0.65      0.65      0.63       143\n",
      "\n"
     ]
    }
   ],
   "source": [
    "print(\"The confusion matrix and Classification report for SVM is as follows\")\n",
    "confclass(predictions2)"
   ]
  },
  {
   "cell_type": "code",
   "execution_count": 21,
   "id": "ef4fe54b",
   "metadata": {},
   "outputs": [
    {
     "data": {
      "image/png": "[encoded data removed]",
      "text/plain": [
       "<Figure size 432x288 with 1 Axes>"
      ]
     },
     "metadata": {
      "needs_background": "light"
     },
     "output_type": "display_data"
    }
   ],
   "source": [
    "#in this case we need to use the function decision_function() over predict_proba() as we are using SVM\n",
    "#decision_function finds distance seperating hyperplane\n",
    "decision_scores = model2.decision_function(A_test)\n",
    "\n",
    "# Calculate the fpr, tpr, and thresholds\n",
    "fpr, tpr, thresholds = roc_curve(B_test, decision_scores)\n",
    "\n",
    "# Calculate the area under the ROC curve \n",
    "roc_auc = auc(fpr, tpr)\n",
    "\n",
    "# Plot the ROC curve\n",
    "plt.plot(fpr, tpr, label='ROC Curve (AUC = {:.2f})'.format(roc_auc))\n",
    "plt.plot([0, 1], [0, 1], 'k--')\n",
    "plt.xlabel('False Positive Rate')\n",
    "plt.ylabel('True Positive Rate')\n",
    "plt.title('ROC for Support Vector Machine')\n",
    "plt.legend(loc='lower right')\n",
    "plt.show()"
   ]
  },
  {
   "cell_type": "code",
   "execution_count": 22,
   "id": "b5c10970",
   "metadata": {},
   "outputs": [
    {
     "name": "stdout",
     "output_type": "stream",
     "text": [
      "SVC cross-validation scores: [0.53846154 0.75524476 0.67132867 0.6993007  0.69014085]\n",
      "Average score: 0.6708953018812174\n"
     ]
    }
   ],
   "source": [
    "\n",
    "cv_scores2 = cross_val_score(model2, A_encoded, B, cv = 5)\n",
    "\n",
    "\n",
    "print(\"SVC cross-validation scores:\", cv_scores2)\n",
    "\n",
    "#the mean of all 5 folds\n",
    "print(\"Average score:\", cv_scores2.mean())\n"
   ]
  },
  {
   "cell_type": "code",
   "execution_count": null,
   "id": "27f103b4",
   "metadata": {},
   "outputs": [],
   "source": []
  },
  {
   "cell_type": "code",
   "execution_count": 23,
   "id": "6350b1ff",
   "metadata": {},
   "outputs": [
    {
     "name": "stdout",
     "output_type": "stream",
     "text": [
      "Predictions: [0 0 0 0 0 0 0 0 1 0 0 0 0 0 1 1 0 1 0 1 0 0 1 1 1 1 1 1 1 0 1 0 0 1 0 0 0\n",
      " 0 0 0 0 1 1 1 0 0 1 1 1 1 0 0 0 1 0 1 0 1 0 0 1 0 0 0 0 1 0 1 1 1 1 0 1 1\n",
      " 0 0 0 0 0 0 1 0 1 1 0 0 0 1 1 0 0 0 1 0 1 0 1 1 1 0 1 0 0 0 0 0 0 0 0 0 1\n",
      " 1 0 0 0 0 1 0 1 0 0 0 1 1 0 0 0 0 0 1 0 0 1 1 0 0 1 0 0 0 0 0 0]\n",
      "True values: [0, 0, 0, 0, 0, 0, 0, 0, 1, 0, 0, 1, 0, 1, 1, 1, 0, 1, 0, 1, 0, 1, 1, 1, 1, 1, 1, 1, 1, 0, 1, 0, 0, 1, 1, 0, 1, 0, 0, 0, 0, 0, 1, 1, 0, 0, 1, 1, 1, 1, 0, 0, 1, 1, 0, 1, 1, 1, 0, 1, 1, 0, 1, 0, 1, 1, 1, 1, 0, 1, 0, 0, 1, 1, 0, 0, 0, 1, 0, 0, 1, 0, 1, 0, 1, 0, 0, 1, 1, 0, 0, 0, 0, 0, 1, 0, 1, 1, 1, 0, 0, 0, 1, 0, 0, 0, 0, 1, 0, 0, 1, 1, 0, 0, 0, 0, 1, 0, 0, 0, 0, 0, 1, 1, 0, 1, 0, 0, 0, 0, 0, 1, 0, 0, 0, 0, 0, 0, 0, 0, 0, 1, 0]\n",
      "Accuracy: 0.7972027972027972\n"
     ]
    }
   ],
   "source": [
    "from sklearn.ensemble import RandomForestClassifier\n",
    "\n",
    "\n",
    "#create and fit the random forest model\n",
    "model3 = RandomForestClassifier()\n",
    "model3.fit(A_train, B_train)\n",
    "\n",
    "#make predictions on the test set\n",
    "predictions3 = model3.predict(A_test)\n",
    "\n",
    "\n",
    "#calculate and print the accuracy\n",
    "accuracy3 = accuracy_score(B_test, predictions3)\n",
    "\n",
    "\n",
    "\n",
    "#use function performance to display\n",
    "performance(predictions3, accuracy3)"
   ]
  },
  {
   "cell_type": "code",
   "execution_count": 24,
   "id": "19148aca",
   "metadata": {},
   "outputs": [
    {
     "name": "stdout",
     "output_type": "stream",
     "text": [
      "------------------------\n",
      "The F1 score for the given model is\n",
      "0.743362831858407\n"
     ]
    }
   ],
   "source": [
    "calcf1(predictions3)\n",
    "\n",
    "\n"
   ]
  },
  {
   "cell_type": "code",
   "execution_count": 25,
   "id": "acc7ad43",
   "metadata": {},
   "outputs": [
    {
     "name": "stdout",
     "output_type": "stream",
     "text": [
      "The Confusion matrix and Classification report of Random forest is\n",
      "------------------------\n",
      "Confusion matrix\n",
      "[[72 11]\n",
      " [18 42]]\n",
      "              precision    recall  f1-score   support\n",
      "\n",
      "           0       0.80      0.87      0.83        83\n",
      "           1       0.79      0.70      0.74        60\n",
      "\n",
      "    accuracy                           0.80       143\n",
      "   macro avg       0.80      0.78      0.79       143\n",
      "weighted avg       0.80      0.80      0.80       143\n",
      "\n"
     ]
    }
   ],
   "source": [
    "print(\"The Confusion matrix and Classification report of Random forest is\")\n",
    "confclass(predictions3)"
   ]
  },
  {
   "cell_type": "code",
   "execution_count": 26,
   "id": "7a4adc75",
   "metadata": {},
   "outputs": [
    {
     "data": {
      "image/png": "[encoded data removed]",
      "text/plain": [
       "<Figure size 432x288 with 1 Axes>"
      ]
     },
     "metadata": {
      "needs_background": "light"
     },
     "output_type": "display_data"
    }
   ],
   "source": [
    "from sklearn.metrics import roc_curve, auc\n",
    "\n",
    "#make predictions on the test set probabilities\n",
    "probabilities = model3.predict_proba(A_test)[:, 1]\n",
    "\n",
    "#calculate the false positive rate (FPR), true positive rate (TPR), and thresholds\n",
    "fpr, tpr, thresholds = roc_curve(B_test, probabilities)\n",
    "\n",
    "#calculate the area under the ROC curve (AUC)\n",
    "roc_auc = auc(fpr, tpr)\n",
    "\n",
    "# Plot the ROC curve\n",
    "plt.plot(fpr, tpr, label='ROC Curve (AUC = {:.2f})'.format(roc_auc))\n",
    "plt.plot([0, 1], [0, 1], 'k--')\n",
    "plt.xlabel('False Positive Rate')\n",
    "plt.ylabel('True Positive Rate')\n",
    "plt.title('ROC for Random Forest ')\n",
    "plt.legend(loc='lower right')\n",
    "plt.show()\n"
   ]
  },
  {
   "cell_type": "code",
   "execution_count": 27,
   "id": "c77a26b9",
   "metadata": {},
   "outputs": [
    {
     "name": "stdout",
     "output_type": "stream",
     "text": [
      "RandomForestClassifier cross-validation scores: [0.71328671 0.83916084 0.83216783 0.76223776 0.86619718]\n",
      "Average score: 0.8026100659903477\n"
     ]
    }
   ],
   "source": [
    "cv_scores3 = cross_val_score(model3, A_encoded, B, cv=5)\n",
    "\n",
    "# Print the performance scores for each fold\n",
    "print(\"RandomForestClassifier cross-validation scores:\", cv_scores3)\n",
    "\n",
    "# Calculate and print the average performance across all folds\n",
    "print(\"Average score:\", cv_scores3.mean())"
   ]
  },
  {
   "cell_type": "code",
   "execution_count": 28,
   "id": "d037066e",
   "metadata": {},
   "outputs": [],
   "source": [
    "from sklearn.metrics import accuracy_score, precision_score, recall_score, f1_score\n",
    "\n",
    "models = ['model1', 'model2', 'model3']\n",
    "metrics = []\n",
    "\n",
    "# Calculate and storing performance metrics \n",
    "for model_name, predictions in zip(models, [predictions, predictions2, predictions3]):\n",
    "    accuracy = accuracy_score(B_test, predictions)\n",
    "    precision = precision_score(B_test, predictions)\n",
    "    recall = recall_score(B_test, predictions)\n",
    "    f1 = f1_score(B_test, predictions)\n",
    "    \n",
    "    model_metrics = {\n",
    "        'Model': model_name,\n",
    "        'Accuracy': accuracy,\n",
    "        'Precision': precision,\n",
    "        'Recall': recall,\n",
    "        'F1 Score': f1\n",
    "    }\n",
    "    \n",
    "    metrics.append(model_metrics)\n",
    "\n"
   ]
  },
  {
   "cell_type": "code",
   "execution_count": 29,
   "id": "d87ce123",
   "metadata": {},
   "outputs": [
    {
     "name": "stdout",
     "output_type": "stream",
     "text": [
      "Model 1 refers to logistic regression, model2 is SVM, model3 is random forest\n"
     ]
    },
    {
     "data": {
      "image/png": "[encoded data removed]",
      "text/plain": [
       "<Figure size 720x576 with 4 Axes>"
      ]
     },
     "metadata": {
      "needs_background": "light"
     },
     "output_type": "display_data"
    },
    {
     "name": "stdout",
     "output_type": "stream",
     "text": [
      "It is clear to see that SVM in this case ranks lowest for each metric and is therefore the least reliable\n",
      "While Logistic Regression and Random Forest are both very close, random forest changes after every run and is not consistent\n",
      "Therefore for the sake of consistency Logistic Regression has the best stats\n"
     ]
    }
   ],
   "source": [
    "accuracy_values = [metric['Accuracy'] for metric in metrics]\n",
    "precision_values = [metric['Precision'] for metric in metrics]\n",
    "recall_values = [metric['Recall'] for metric in metrics]\n",
    "f1_values = [metric['F1 Score'] for metric in metrics]\n",
    "\n",
    "# Setting the width of the bars\n",
    "bar_width = 0.7\n",
    "index = range(len(models))\n",
    "\n",
    "# Create subplots \n",
    "fig, axs = plt.subplots(nrows=2, ncols=2, figsize=(10, 8))\n",
    "\n",
    "# Plot accuracy\n",
    "axs[0, 0].bar(models, [metric['Accuracy'] for metric in metrics], color = \"blue\")\n",
    "axs[0, 0].set_ylabel('Accuracy')\n",
    "axs[0, 0].set_title('Accuracy Comparison')\n",
    "\n",
    "# Plot precision\n",
    "axs[0, 1].bar(models, [metric['Precision'] for metric in metrics], color = \"green\")\n",
    "axs[0, 1].set_ylabel('Precision')\n",
    "axs[0, 1].set_title('Precision Comparison')\n",
    "\n",
    "# Plot recall\n",
    "axs[1, 0].bar(models, [metric['Recall'] for metric in metrics], color = \"red\")\n",
    "axs[1, 0].set_ylabel('Recall')\n",
    "axs[1, 0].set_title('Recall Comparison')\n",
    "\n",
    "# Plot F1 score\n",
    "axs[1, 1].bar(models, [metric['F1 Score'] for metric in metrics], color = \"orange\")\n",
    "axs[1, 1].set_ylabel('F1 Score')\n",
    "axs[1, 1].set_title('F1 Score Comparison')\n",
    "\n",
    "# Adjust spacing between subplots\n",
    "plt.tight_layout()\n",
    "\n",
    "#notice\n",
    "print(\"Model 1 refers to logistic regression, model2 is SVM, model3 is random forest\")\n",
    "# Display the plots\n",
    "plt.show()\n",
    "\n",
    "#conclusion\n",
    "print(\"It is clear to see that SVM in this case ranks lowest for each metric and is therefore the least reliable\")\n",
    "print(\"While Logistic Regression and Random Forest are both very close, random forest changes after every run and is not consistent\")\n",
    "print(\"Therefore for the sake of consistency Logistic Regression has the best stats\")"
   ]
  },
  {
   "cell_type": "code",
   "execution_count": null,
   "id": "30fec88d",
   "metadata": {},
   "outputs": [],
   "source": []
  },
  {
   "cell_type": "code",
   "execution_count": null,
   "id": "54d6c1dd",
   "metadata": {},
   "outputs": [],
   "source": []
  },
  {
   "cell_type": "code",
   "execution_count": null,
   "id": "c71506d9",
   "metadata": {},
   "outputs": [],
   "source": []
  },
  {
   "cell_type": "code",
   "execution_count": null,
   "id": "4dc56839",
   "metadata": {},
   "outputs": [],
   "source": []
  },
  {
   "cell_type": "code",
   "execution_count": null,
   "id": "a6f90620",
   "metadata": {},
   "outputs": [],
   "source": []
  }
 ],
 "metadata": {
  "kernelspec": {
   "display_name": "Python 3 (ipykernel)",
   "language": "python",
   "name": "python3"
  },
  "language_info": {
   "codemirror_mode": {
    "name": "ipython",
    "version": 3
   },
   "file_extension": ".py",
   "mimetype": "text/x-python",
   "name": "python",
   "nbconvert_exporter": "python",
   "pygments_lexer": "ipython3",
   "version": "3.9.7"
  }
 },
 "nbformat": 4,
 "nbformat_minor": 5
}
